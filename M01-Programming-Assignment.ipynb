{
 "cells": [
  {
   "cell_type": "markdown",
   "id": "28e6463b-6cc7-41e4-a28e-471018956e3e",
   "metadata": {},
   "source": [
    "Ryan Hayes Sdev220 Programming Assignment 1"
   ]
  },
  {
   "cell_type": "code",
   "execution_count": 4,
   "id": "a2a57623-46c2-4586-a574-158821c976f1",
   "metadata": {},
   "outputs": [
    {
     "data": {
      "text/plain": [
       "(3600, 86400, 24.0, 24)"
      ]
     },
     "execution_count": 4,
     "metadata": {},
     "output_type": "execute_result"
    }
   ],
   "source": [
    "# Step 3.1 and 3.2: Calculate the number of seconds in an hour\n",
    "seconds_per_minute = 60\n",
    "minutes_per_hour = 60\n",
    "seconds_per_hour = seconds_per_minute * minutes_per_hour\n",
    "\n",
    "# Step 3.3 and 3.4: Calculate the number of seconds in a day using seconds_per_hour\n",
    "hours_per_day = 24\n",
    "seconds_per_day = seconds_per_hour * hours_per_day\n",
    "\n",
    "# Step 3.5: Floating-point division of seconds_per_day by seconds_per_hour\n",
    "floating_point_result = seconds_per_day / seconds_per_hour\n",
    "\n",
    "# Step 3.6: Integer division of seconds_per_day by seconds_per_hour -- Yes, the results of floating point and integer division agree because the numbers divided resulted in a whole number\n",
    "integer_division_result = seconds_per_day // seconds_per_hour\n",
    "\n",
    "seconds_per_hour, seconds_per_day, floating_point_result, integer_division_result\n"
   ]
  },
  {
   "cell_type": "markdown",
   "id": "ed142061-b08e-45e9-9c94-367e95e44fce",
   "metadata": {},
   "source": [
    "3.6 Prompt:  Yes, the results of floating and integer division agree because the numbers divided resulted in a whole number.  If the result was not a whole number, the integer value would be less accurate than the float value."
   ]
  },
  {
   "cell_type": "code",
   "execution_count": null,
   "id": "dc8e3ab2-81bb-4dec-a298-f28f24161571",
   "metadata": {},
   "outputs": [],
   "source": []
  }
 ],
 "metadata": {
  "kernelspec": {
   "display_name": "Python 3 (ipykernel)",
   "language": "python",
   "name": "python3"
  },
  "language_info": {
   "codemirror_mode": {
    "name": "ipython",
    "version": 3
   },
   "file_extension": ".py",
   "mimetype": "text/x-python",
   "name": "python",
   "nbconvert_exporter": "python",
   "pygments_lexer": "ipython3",
   "version": "3.11.7"
  }
 },
 "nbformat": 4,
 "nbformat_minor": 5
}
